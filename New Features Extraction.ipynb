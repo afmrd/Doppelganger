{
 "cells": [
  {
   "cell_type": "code",
   "execution_count": 63,
   "metadata": {},
   "outputs": [],
   "source": [
    "import pandas as pd\n",
    "import numpy as np\n",
    "from sklearn.preprocessing import StandardScaler\n",
    "from scipy import stats\n",
    "from sklearn.decomposition import PCA\n",
    "import os\n",
    "from sklearn import preprocessing\n",
    "from sklearn.model_selection import train_test_split"
   ]
  },
  {
   "cell_type": "code",
   "execution_count": 30,
   "metadata": {},
   "outputs": [
    {
     "data": {
      "text/plain": [
       "['.ipynb_checkpoints',\n",
       " 'Cleantext.py',\n",
       " 'Comments.csv',\n",
       " 'concat.csv',\n",
       " 'concat1.csv',\n",
       " 'count.csv',\n",
       " 'Features.csv',\n",
       " 'Joined.csv',\n",
       " 'Joined_1.csv',\n",
       " 'New_Datasets2.csv',\n",
       " 'New__datasets.csv',\n",
       " 'New__datasets2.csv',\n",
       " 'part2_task1.py',\n",
       " 'part2_task2.py',\n",
       " 'part2_task3.py',\n",
       " 'Pca.csv',\n",
       " 'testing.csv',\n",
       " 'Testing.ipynb',\n",
       " 'Untitled.ipynb',\n",
       " 'Untitled1.ipynb',\n",
       " 'Untitled2.ipynb',\n",
       " '__pycache__']"
      ]
     },
     "execution_count": 30,
     "metadata": {},
     "output_type": "execute_result"
    }
   ],
   "source": [
    "os.getcwd()\n",
    "os.chdir('C:/Users/Alvin F/Downloads/Practical_sheet2_submission/Practical_sheet2_submission/source_code')\n",
    "os.listdir()"
   ]
  },
  {
   "cell_type": "code",
   "execution_count": 38,
   "metadata": {},
   "outputs": [
    {
     "data": {
      "text/plain": [
       "(4000, 11)"
      ]
     },
     "execution_count": 38,
     "metadata": {},
     "output_type": "execute_result"
    }
   ],
   "source": [
    "new = pd.read_csv('Joined_1.csv')\n",
    "datdrop = new.drop(['Unnamed: 0','Unnamed: 0.1' ,'Unnamed: 0.1.1','username', 'content', 'Label'], axis = 1)\n",
    "datdrop.shape"
   ]
  },
  {
   "cell_type": "code",
   "execution_count": 39,
   "metadata": {},
   "outputs": [
    {
     "data": {
      "text/plain": [
       "array([[ 73.00,  13.00,  0.07, ...,  20.00,  60.30,  16.87],\n",
       "       [ 50.00,  6.00,  0.07, ...,  14.00,  52.15,  14.68],\n",
       "       [ 56.00,  6.00,  0.06, ...,  13.00,  54.85,  14.17],\n",
       "       ...,\n",
       "       [ 54.00,  5.00,  0.07, ...,  13.00,  41.85,  20.43],\n",
       "       [ 65.00,  10.00,  0.06, ...,  21.00,  52.55,  15.75],\n",
       "       [ 101.00,  10.00,  0.07, ...,  40.00,  52.15,  13.88]])"
      ]
     },
     "execution_count": 39,
     "metadata": {},
     "output_type": "execute_result"
    }
   ],
   "source": [
    "np.set_printoptions(formatter={'float': '{: 0.2f}'.format})\n",
    "dat_array = datdrop.to_numpy()\n",
    "dat_array"
   ]
  },
  {
   "cell_type": "code",
   "execution_count": 40,
   "metadata": {},
   "outputs": [
    {
     "data": {
      "text/plain": [
       "(4000, 11)"
      ]
     },
     "execution_count": 40,
     "metadata": {},
     "output_type": "execute_result"
    }
   ],
   "source": [
    "scaler = StandardScaler()\n",
    "dat_standardized = scaler.fit_transform(dat_array)\n",
    "dat_standardized.shape"
   ]
  },
  {
   "cell_type": "code",
   "execution_count": 41,
   "metadata": {},
   "outputs": [
    {
     "data": {
      "text/plain": [
       "(11, 11)"
      ]
     },
     "execution_count": 41,
     "metadata": {},
     "output_type": "execute_result"
    }
   ],
   "source": [
    "COVMAT = np.cov(dat_standardized.T)\n",
    "COVMAT.shape"
   ]
  },
  {
   "cell_type": "code",
   "execution_count": 42,
   "metadata": {},
   "outputs": [],
   "source": [
    "eigvals, eigvecs = np.linalg.eig(COVMAT)"
   ]
  },
  {
   "cell_type": "code",
   "execution_count": 43,
   "metadata": {},
   "outputs": [
    {
     "data": {
      "text/plain": [
       "(11,)"
      ]
     },
     "execution_count": 43,
     "metadata": {},
     "output_type": "execute_result"
    }
   ],
   "source": [
    "eigvals.shape"
   ]
  },
  {
   "cell_type": "code",
   "execution_count": 44,
   "metadata": {},
   "outputs": [
    {
     "data": {
      "text/plain": [
       "(11, 11)"
      ]
     },
     "execution_count": 44,
     "metadata": {},
     "output_type": "execute_result"
    }
   ],
   "source": [
    "eigvecs.shape"
   ]
  },
  {
   "cell_type": "code",
   "execution_count": 53,
   "metadata": {},
   "outputs": [
    {
     "data": {
      "text/plain": [
       "(4000, 7)"
      ]
     },
     "execution_count": 53,
     "metadata": {},
     "output_type": "execute_result"
    }
   ],
   "source": [
    "pd.options.display.width = 0\n",
    "pca = PCA(n_components = 0.999)\n",
    "# pca = PCA()\n",
    "DATA_PCA = pca.fit_transform(dat_array)\n",
    "DATA_PCA.shape"
   ]
  },
  {
   "cell_type": "code",
   "execution_count": 54,
   "metadata": {},
   "outputs": [
    {
     "data": {
      "text/html": [
       "<div>\n",
       "<style scoped>\n",
       "    .dataframe tbody tr th:only-of-type {\n",
       "        vertical-align: middle;\n",
       "    }\n",
       "\n",
       "    .dataframe tbody tr th {\n",
       "        vertical-align: top;\n",
       "    }\n",
       "\n",
       "    .dataframe thead th {\n",
       "        text-align: right;\n",
       "    }\n",
       "</style>\n",
       "<table border=\"1\" class=\"dataframe\">\n",
       "  <thead>\n",
       "    <tr style=\"text-align: right;\">\n",
       "      <th></th>\n",
       "      <th>0</th>\n",
       "      <th>1</th>\n",
       "      <th>2</th>\n",
       "      <th>3</th>\n",
       "      <th>4</th>\n",
       "      <th>5</th>\n",
       "      <th>6</th>\n",
       "    </tr>\n",
       "  </thead>\n",
       "  <tbody>\n",
       "    <tr>\n",
       "      <th>0</th>\n",
       "      <td>-8.824505</td>\n",
       "      <td>13.777832</td>\n",
       "      <td>-3.431664</td>\n",
       "      <td>-6.787204</td>\n",
       "      <td>-0.230691</td>\n",
       "      <td>-3.684174</td>\n",
       "      <td>1.080832</td>\n",
       "    </tr>\n",
       "    <tr>\n",
       "      <th>1</th>\n",
       "      <td>-0.989631</td>\n",
       "      <td>41.347556</td>\n",
       "      <td>0.755896</td>\n",
       "      <td>-0.902103</td>\n",
       "      <td>0.938805</td>\n",
       "      <td>-0.047172</td>\n",
       "      <td>-1.442283</td>\n",
       "    </tr>\n",
       "    <tr>\n",
       "      <th>2</th>\n",
       "      <td>-18.067340</td>\n",
       "      <td>29.158514</td>\n",
       "      <td>2.200074</td>\n",
       "      <td>1.650324</td>\n",
       "      <td>4.346235</td>\n",
       "      <td>-0.335753</td>\n",
       "      <td>-0.674240</td>\n",
       "    </tr>\n",
       "    <tr>\n",
       "      <th>3</th>\n",
       "      <td>50.228008</td>\n",
       "      <td>-20.003467</td>\n",
       "      <td>-2.413044</td>\n",
       "      <td>-14.996930</td>\n",
       "      <td>-0.411881</td>\n",
       "      <td>-4.218805</td>\n",
       "      <td>1.036431</td>\n",
       "    </tr>\n",
       "    <tr>\n",
       "      <th>4</th>\n",
       "      <td>-3.029504</td>\n",
       "      <td>39.167658</td>\n",
       "      <td>-3.396533</td>\n",
       "      <td>0.786214</td>\n",
       "      <td>1.050515</td>\n",
       "      <td>-1.736533</td>\n",
       "      <td>2.268262</td>\n",
       "    </tr>\n",
       "    <tr>\n",
       "      <th>...</th>\n",
       "      <td>...</td>\n",
       "      <td>...</td>\n",
       "      <td>...</td>\n",
       "      <td>...</td>\n",
       "      <td>...</td>\n",
       "      <td>...</td>\n",
       "      <td>...</td>\n",
       "    </tr>\n",
       "    <tr>\n",
       "      <th>3995</th>\n",
       "      <td>-36.097844</td>\n",
       "      <td>-0.969106</td>\n",
       "      <td>10.948048</td>\n",
       "      <td>-1.219743</td>\n",
       "      <td>-0.844900</td>\n",
       "      <td>-1.387801</td>\n",
       "      <td>-1.981613</td>\n",
       "    </tr>\n",
       "    <tr>\n",
       "      <th>3996</th>\n",
       "      <td>53.357681</td>\n",
       "      <td>-31.669109</td>\n",
       "      <td>-7.130660</td>\n",
       "      <td>-6.368608</td>\n",
       "      <td>6.862107</td>\n",
       "      <td>-3.631758</td>\n",
       "      <td>-2.198247</td>\n",
       "    </tr>\n",
       "    <tr>\n",
       "      <th>3997</th>\n",
       "      <td>65.482890</td>\n",
       "      <td>60.827881</td>\n",
       "      <td>-3.724646</td>\n",
       "      <td>-5.742892</td>\n",
       "      <td>2.107878</td>\n",
       "      <td>2.340505</td>\n",
       "      <td>-2.632582</td>\n",
       "    </tr>\n",
       "    <tr>\n",
       "      <th>3998</th>\n",
       "      <td>-2.432391</td>\n",
       "      <td>24.258583</td>\n",
       "      <td>1.679410</td>\n",
       "      <td>-7.175010</td>\n",
       "      <td>-2.571187</td>\n",
       "      <td>-0.136912</td>\n",
       "      <td>-0.698742</td>\n",
       "    </tr>\n",
       "    <tr>\n",
       "      <th>3999</th>\n",
       "      <td>17.874809</td>\n",
       "      <td>-13.574599</td>\n",
       "      <td>0.363085</td>\n",
       "      <td>5.018765</td>\n",
       "      <td>-8.786052</td>\n",
       "      <td>4.939226</td>\n",
       "      <td>-2.649038</td>\n",
       "    </tr>\n",
       "  </tbody>\n",
       "</table>\n",
       "<p>4000 rows × 7 columns</p>\n",
       "</div>"
      ],
      "text/plain": [
       "              0          1          2          3         4         5         6\n",
       "0     -8.824505  13.777832  -3.431664  -6.787204 -0.230691 -3.684174  1.080832\n",
       "1     -0.989631  41.347556   0.755896  -0.902103  0.938805 -0.047172 -1.442283\n",
       "2    -18.067340  29.158514   2.200074   1.650324  4.346235 -0.335753 -0.674240\n",
       "3     50.228008 -20.003467  -2.413044 -14.996930 -0.411881 -4.218805  1.036431\n",
       "4     -3.029504  39.167658  -3.396533   0.786214  1.050515 -1.736533  2.268262\n",
       "...         ...        ...        ...        ...       ...       ...       ...\n",
       "3995 -36.097844  -0.969106  10.948048  -1.219743 -0.844900 -1.387801 -1.981613\n",
       "3996  53.357681 -31.669109  -7.130660  -6.368608  6.862107 -3.631758 -2.198247\n",
       "3997  65.482890  60.827881  -3.724646  -5.742892  2.107878  2.340505 -2.632582\n",
       "3998  -2.432391  24.258583   1.679410  -7.175010 -2.571187 -0.136912 -0.698742\n",
       "3999  17.874809 -13.574599   0.363085   5.018765 -8.786052  4.939226 -2.649038\n",
       "\n",
       "[4000 rows x 7 columns]"
      ]
     },
     "execution_count": 54,
     "metadata": {},
     "output_type": "execute_result"
    }
   ],
   "source": [
    "datfr = pd.DataFrame(DATA_PCA)\n",
    "datfr"
   ]
  },
  {
   "cell_type": "code",
   "execution_count": 62,
   "metadata": {},
   "outputs": [],
   "source": [
    "X = new['Label']\n",
    "Y = datfr"
   ]
  },
  {
   "cell_type": "code",
   "execution_count": 64,
   "metadata": {},
   "outputs": [],
   "source": [
    "X_train, X_test, Y_train, Y_test = train_test_split(X, Y, test_size=0.33, random_state=42)"
   ]
  },
  {
   "cell_type": "code",
   "execution_count": 66,
   "metadata": {},
   "outputs": [
    {
     "data": {
      "text/html": [
       "<div>\n",
       "<style scoped>\n",
       "    .dataframe tbody tr th:only-of-type {\n",
       "        vertical-align: middle;\n",
       "    }\n",
       "\n",
       "    .dataframe tbody tr th {\n",
       "        vertical-align: top;\n",
       "    }\n",
       "\n",
       "    .dataframe thead th {\n",
       "        text-align: right;\n",
       "    }\n",
       "</style>\n",
       "<table border=\"1\" class=\"dataframe\">\n",
       "  <thead>\n",
       "    <tr style=\"text-align: right;\">\n",
       "      <th></th>\n",
       "      <th>0</th>\n",
       "      <th>1</th>\n",
       "      <th>2</th>\n",
       "      <th>3</th>\n",
       "      <th>4</th>\n",
       "      <th>5</th>\n",
       "      <th>6</th>\n",
       "    </tr>\n",
       "  </thead>\n",
       "  <tbody>\n",
       "    <tr>\n",
       "      <th>367</th>\n",
       "      <td>-26.340083</td>\n",
       "      <td>12.361844</td>\n",
       "      <td>2.483909</td>\n",
       "      <td>-7.668903</td>\n",
       "      <td>-0.421449</td>\n",
       "      <td>-1.603189</td>\n",
       "      <td>-0.367328</td>\n",
       "    </tr>\n",
       "    <tr>\n",
       "      <th>3451</th>\n",
       "      <td>50.405692</td>\n",
       "      <td>10.216430</td>\n",
       "      <td>-12.882017</td>\n",
       "      <td>4.177242</td>\n",
       "      <td>-2.188174</td>\n",
       "      <td>-0.539605</td>\n",
       "      <td>-2.933466</td>\n",
       "    </tr>\n",
       "    <tr>\n",
       "      <th>3014</th>\n",
       "      <td>-43.474719</td>\n",
       "      <td>17.255913</td>\n",
       "      <td>-8.051311</td>\n",
       "      <td>7.032171</td>\n",
       "      <td>-6.725375</td>\n",
       "      <td>5.531377</td>\n",
       "      <td>5.815911</td>\n",
       "    </tr>\n",
       "    <tr>\n",
       "      <th>2833</th>\n",
       "      <td>37.891699</td>\n",
       "      <td>-49.990771</td>\n",
       "      <td>22.235808</td>\n",
       "      <td>-1.135816</td>\n",
       "      <td>-8.783035</td>\n",
       "      <td>-3.974890</td>\n",
       "      <td>2.468286</td>\n",
       "    </tr>\n",
       "    <tr>\n",
       "      <th>3125</th>\n",
       "      <td>-6.738348</td>\n",
       "      <td>-39.005439</td>\n",
       "      <td>-1.495188</td>\n",
       "      <td>3.685176</td>\n",
       "      <td>5.438950</td>\n",
       "      <td>-0.215926</td>\n",
       "      <td>2.493331</td>\n",
       "    </tr>\n",
       "    <tr>\n",
       "      <th>...</th>\n",
       "      <td>...</td>\n",
       "      <td>...</td>\n",
       "      <td>...</td>\n",
       "      <td>...</td>\n",
       "      <td>...</td>\n",
       "      <td>...</td>\n",
       "      <td>...</td>\n",
       "    </tr>\n",
       "    <tr>\n",
       "      <th>1130</th>\n",
       "      <td>-14.362420</td>\n",
       "      <td>29.110948</td>\n",
       "      <td>1.829285</td>\n",
       "      <td>-0.691459</td>\n",
       "      <td>2.195181</td>\n",
       "      <td>-0.273789</td>\n",
       "      <td>2.494193</td>\n",
       "    </tr>\n",
       "    <tr>\n",
       "      <th>1294</th>\n",
       "      <td>-19.328596</td>\n",
       "      <td>20.877212</td>\n",
       "      <td>7.083514</td>\n",
       "      <td>-2.185448</td>\n",
       "      <td>-1.884750</td>\n",
       "      <td>4.114156</td>\n",
       "      <td>-0.544386</td>\n",
       "    </tr>\n",
       "    <tr>\n",
       "      <th>860</th>\n",
       "      <td>48.365521</td>\n",
       "      <td>-17.331326</td>\n",
       "      <td>3.628670</td>\n",
       "      <td>-2.694474</td>\n",
       "      <td>2.553295</td>\n",
       "      <td>-3.501914</td>\n",
       "      <td>-1.441176</td>\n",
       "    </tr>\n",
       "    <tr>\n",
       "      <th>3507</th>\n",
       "      <td>49.067545</td>\n",
       "      <td>56.701355</td>\n",
       "      <td>-12.596907</td>\n",
       "      <td>1.494535</td>\n",
       "      <td>6.425951</td>\n",
       "      <td>-0.594699</td>\n",
       "      <td>-0.348377</td>\n",
       "    </tr>\n",
       "    <tr>\n",
       "      <th>3174</th>\n",
       "      <td>94.669001</td>\n",
       "      <td>-15.980253</td>\n",
       "      <td>12.668177</td>\n",
       "      <td>5.404895</td>\n",
       "      <td>-7.060365</td>\n",
       "      <td>3.328266</td>\n",
       "      <td>-3.971378</td>\n",
       "    </tr>\n",
       "  </tbody>\n",
       "</table>\n",
       "<p>2680 rows × 7 columns</p>\n",
       "</div>"
      ],
      "text/plain": [
       "              0          1          2         3         4         5         6\n",
       "367  -26.340083  12.361844   2.483909 -7.668903 -0.421449 -1.603189 -0.367328\n",
       "3451  50.405692  10.216430 -12.882017  4.177242 -2.188174 -0.539605 -2.933466\n",
       "3014 -43.474719  17.255913  -8.051311  7.032171 -6.725375  5.531377  5.815911\n",
       "2833  37.891699 -49.990771  22.235808 -1.135816 -8.783035 -3.974890  2.468286\n",
       "3125  -6.738348 -39.005439  -1.495188  3.685176  5.438950 -0.215926  2.493331\n",
       "...         ...        ...        ...       ...       ...       ...       ...\n",
       "1130 -14.362420  29.110948   1.829285 -0.691459  2.195181 -0.273789  2.494193\n",
       "1294 -19.328596  20.877212   7.083514 -2.185448 -1.884750  4.114156 -0.544386\n",
       "860   48.365521 -17.331326   3.628670 -2.694474  2.553295 -3.501914 -1.441176\n",
       "3507  49.067545  56.701355 -12.596907  1.494535  6.425951 -0.594699 -0.348377\n",
       "3174  94.669001 -15.980253  12.668177  5.404895 -7.060365  3.328266 -3.971378\n",
       "\n",
       "[2680 rows x 7 columns]"
      ]
     },
     "execution_count": 66,
     "metadata": {},
     "output_type": "execute_result"
    }
   ],
   "source": []
  },
  {
   "cell_type": "code",
   "execution_count": null,
   "metadata": {},
   "outputs": [],
   "source": []
  },
  {
   "cell_type": "code",
   "execution_count": null,
   "metadata": {},
   "outputs": [],
   "source": []
  },
  {
   "cell_type": "code",
   "execution_count": null,
   "metadata": {},
   "outputs": [],
   "source": []
  },
  {
   "cell_type": "code",
   "execution_count": null,
   "metadata": {},
   "outputs": [],
   "source": []
  },
  {
   "cell_type": "code",
   "execution_count": null,
   "metadata": {},
   "outputs": [],
   "source": []
  },
  {
   "cell_type": "code",
   "execution_count": null,
   "metadata": {},
   "outputs": [],
   "source": []
  },
  {
   "cell_type": "code",
   "execution_count": null,
   "metadata": {},
   "outputs": [],
   "source": []
  },
  {
   "cell_type": "code",
   "execution_count": null,
   "metadata": {},
   "outputs": [],
   "source": []
  },
  {
   "cell_type": "code",
   "execution_count": null,
   "metadata": {},
   "outputs": [],
   "source": []
  },
  {
   "cell_type": "code",
   "execution_count": null,
   "metadata": {},
   "outputs": [],
   "source": []
  },
  {
   "cell_type": "code",
   "execution_count": 33,
   "metadata": {},
   "outputs": [],
   "source": [
    "# label = preprocessing.LabelEncoder()\n",
    "# label.fit([])"
   ]
  },
  {
   "cell_type": "code",
   "execution_count": 29,
   "metadata": {},
   "outputs": [],
   "source": [
    "# data = pd.read_csv('Joined.csv')\n",
    "# enc = data['username']\n",
    "# data['Label'] = label.transform(enc)\n",
    "# data.to_csv('Joined_1.csv')"
   ]
  },
  {
   "cell_type": "code",
   "execution_count": 17,
   "metadata": {},
   "outputs": [],
   "source": [
    "# abc = pd.read_csv('Features.csv').drop(['Unnamed: 0'], axis  = 1)\n",
    "# abc"
   ]
  },
  {
   "cell_type": "code",
   "execution_count": 6,
   "metadata": {},
   "outputs": [],
   "source": [
    "# new_dat = pd.read_csv('New__datasets.csv')\n",
    "# datdrop = new_dat.drop(['Unnamed: 0.1', 'Unnamed: 0'], axis = 1)"
   ]
  },
  {
   "cell_type": "code",
   "execution_count": 13,
   "metadata": {},
   "outputs": [],
   "source": [
    "# datdrop\n",
    "# datdrop.join(abc)\n",
    "# joined  = new_dat.join(abc)"
   ]
  },
  {
   "cell_type": "code",
   "execution_count": null,
   "metadata": {},
   "outputs": [],
   "source": []
  }
 ],
 "metadata": {
  "kernelspec": {
   "display_name": "Python 3",
   "language": "python",
   "name": "python3"
  },
  "language_info": {
   "codemirror_mode": {
    "name": "ipython",
    "version": 3
   },
   "file_extension": ".py",
   "mimetype": "text/x-python",
   "name": "python",
   "nbconvert_exporter": "python",
   "pygments_lexer": "ipython3",
   "version": "3.7.9"
  }
 },
 "nbformat": 4,
 "nbformat_minor": 4
}
